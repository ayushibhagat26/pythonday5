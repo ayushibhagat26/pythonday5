{
 "cells": [
  {
   "cell_type": "code",
   "execution_count": null,
   "id": "likely-shakespeare",
   "metadata": {},
   "outputs": [],
   "source": [
    "introduction to list datatypes:"
   ]
  },
  {
   "cell_type": "code",
   "execution_count": null,
   "id": "conservative-majority",
   "metadata": {},
   "outputs": [],
   "source": [
    "Defination : A list is collection of items in a particular order.\n",
    "    \n",
    "classification : A list is classified as an mutable datatype (editable)\n",
    "    \n",
    "    \n",
    "How to define a list -----?\n",
    " \n",
    "[] -----> using the square brackets we can define the list.    "
   ]
  },
  {
   "cell_type": "code",
   "execution_count": null,
   "id": "provincial-rehabilitation",
   "metadata": {},
   "outputs": [],
   "source": []
  },
  {
   "cell_type": "code",
   "execution_count": 1,
   "id": "alien-frequency",
   "metadata": {},
   "outputs": [],
   "source": [
    "students = ['amardeep','ayushi','shalini','mukesh','pavan','saniya'] # 0,1,2,3,4,5"
   ]
  },
  {
   "cell_type": "code",
   "execution_count": 2,
   "id": "romantic-symbol",
   "metadata": {},
   "outputs": [
    {
     "name": "stdout",
     "output_type": "stream",
     "text": [
      "['amardeep', 'ayushi', 'shalini', 'mukesh', 'pavan', 'saniya']\n"
     ]
    }
   ],
   "source": [
    "print(students)"
   ]
  },
  {
   "cell_type": "code",
   "execution_count": 4,
   "id": "behind-tissue",
   "metadata": {},
   "outputs": [
    {
     "data": {
      "text/plain": [
       "list"
      ]
     },
     "execution_count": 4,
     "metadata": {},
     "output_type": "execute_result"
    }
   ],
   "source": [
    "type(students)"
   ]
  },
  {
   "cell_type": "code",
   "execution_count": null,
   "id": "robust-input",
   "metadata": {},
   "outputs": [],
   "source": [
    "Req: i want to get the shalini name in the output?"
   ]
  },
  {
   "cell_type": "code",
   "execution_count": null,
   "id": "iraqi-fleece",
   "metadata": {},
   "outputs": [],
   "source": []
  },
  {
   "cell_type": "code",
   "execution_count": null,
   "id": "preliminary-boost",
   "metadata": {},
   "outputs": [],
   "source": [
    "introdution to indexing:\n",
    "    \n",
    "     0,1,2,3,4 ...."
   ]
  },
  {
   "cell_type": "code",
   "execution_count": 6,
   "id": "overhead-cheat",
   "metadata": {},
   "outputs": [
    {
     "name": "stdout",
     "output_type": "stream",
     "text": [
      "shalini\n"
     ]
    }
   ],
   "source": [
    "print(students[2])"
   ]
  },
  {
   "cell_type": "code",
   "execution_count": 7,
   "id": "civil-bench",
   "metadata": {},
   "outputs": [
    {
     "name": "stdout",
     "output_type": "stream",
     "text": [
      "pavan\n"
     ]
    }
   ],
   "source": [
    "print(students[4])"
   ]
  },
  {
   "cell_type": "code",
   "execution_count": 8,
   "id": "acting-nitrogen",
   "metadata": {},
   "outputs": [
    {
     "name": "stdout",
     "output_type": "stream",
     "text": [
      "Pavan\n"
     ]
    }
   ],
   "source": [
    "print(students[4].title())"
   ]
  },
  {
   "cell_type": "code",
   "execution_count": null,
   "id": "brilliant-mumbai",
   "metadata": {},
   "outputs": [],
   "source": []
  },
  {
   "cell_type": "code",
   "execution_count": null,
   "id": "cooperative-treatment",
   "metadata": {},
   "outputs": [],
   "source": [
    "1. how to add a new element to the list  ----done (append, insert ..!)\n",
    "\n",
    "2. how to modify an element in the list\n",
    "\n",
    "3. how to delete the element in the list"
   ]
  },
  {
   "cell_type": "code",
   "execution_count": null,
   "id": "chronic-stadium",
   "metadata": {},
   "outputs": [],
   "source": []
  },
  {
   "cell_type": "code",
   "execution_count": 9,
   "id": "reduced-stanford",
   "metadata": {},
   "outputs": [
    {
     "name": "stdout",
     "output_type": "stream",
     "text": [
      "['amardeep', 'ayushi', 'shalini', 'mukesh', 'pavan', 'saniya']\n"
     ]
    }
   ],
   "source": [
    "print(students)"
   ]
  },
  {
   "cell_type": "code",
   "execution_count": null,
   "id": "uniform-family",
   "metadata": {},
   "outputs": [],
   "source": [
    "req: i want to add ayushi in the above list...?"
   ]
  },
  {
   "cell_type": "code",
   "execution_count": 10,
   "id": "hispanic-harvey",
   "metadata": {},
   "outputs": [],
   "source": [
    "students.append('ayushi')"
   ]
  },
  {
   "cell_type": "code",
   "execution_count": 11,
   "id": "thorough-freeze",
   "metadata": {},
   "outputs": [
    {
     "name": "stdout",
     "output_type": "stream",
     "text": [
      "['amardeep', 'ayushi', 'shalini', 'mukesh', 'pavan', 'saniya', 'ayushi']\n"
     ]
    }
   ],
   "source": [
    "print(students)"
   ]
  },
  {
   "cell_type": "code",
   "execution_count": null,
   "id": "automotive-acrobat",
   "metadata": {},
   "outputs": [],
   "source": [
    "req: i want to add naveen in the above list...?"
   ]
  },
  {
   "cell_type": "code",
   "execution_count": 12,
   "id": "paperback-forth",
   "metadata": {},
   "outputs": [],
   "source": [
    "students.append('naveen')"
   ]
  },
  {
   "cell_type": "code",
   "execution_count": 13,
   "id": "basic-beginning",
   "metadata": {},
   "outputs": [
    {
     "name": "stdout",
     "output_type": "stream",
     "text": [
      "['amardeep', 'ayushi', 'shalini', 'mukesh', 'pavan', 'saniya', 'ayushi', 'naveen']\n"
     ]
    }
   ],
   "source": [
    "print(students)"
   ]
  },
  {
   "cell_type": "code",
   "execution_count": null,
   "id": "green-organ",
   "metadata": {},
   "outputs": [],
   "source": [
    "req: adding at a custom place...?\n",
    "    \n",
    "       jeet singh  ---> 4 place"
   ]
  },
  {
   "cell_type": "code",
   "execution_count": 14,
   "id": "established-injection",
   "metadata": {},
   "outputs": [],
   "source": [
    "students.insert(4,'jeet singh')"
   ]
  },
  {
   "cell_type": "code",
   "execution_count": 15,
   "id": "intellectual-aggregate",
   "metadata": {},
   "outputs": [
    {
     "name": "stdout",
     "output_type": "stream",
     "text": [
      "['amardeep', 'ayushi', 'shalini', 'mukesh', 'jeet singh', 'pavan', 'saniya', 'ayushi', 'naveen']\n"
     ]
    }
   ],
   "source": [
    "print(students)"
   ]
  },
  {
   "cell_type": "code",
   "execution_count": 16,
   "id": "comparable-hayes",
   "metadata": {},
   "outputs": [
    {
     "name": "stdout",
     "output_type": "stream",
     "text": [
      "jeet singh\n"
     ]
    }
   ],
   "source": [
    "print(students[4])"
   ]
  },
  {
   "cell_type": "code",
   "execution_count": null,
   "id": "sunset-encounter",
   "metadata": {},
   "outputs": [],
   "source": []
  },
  {
   "cell_type": "code",
   "execution_count": null,
   "id": "ceramic-sewing",
   "metadata": {},
   "outputs": [],
   "source": [
    "2. how to modify an element in the list?"
   ]
  },
  {
   "cell_type": "code",
   "execution_count": 17,
   "id": "ready-resource",
   "metadata": {},
   "outputs": [
    {
     "name": "stdout",
     "output_type": "stream",
     "text": [
      "['amardeep', 'ayushi', 'shalini', 'mukesh', 'jeet singh', 'pavan', 'saniya', 'ayushi', 'naveen']\n"
     ]
    }
   ],
   "source": [
    "print(students)"
   ]
  },
  {
   "cell_type": "code",
   "execution_count": null,
   "id": "parallel-passion",
   "metadata": {},
   "outputs": [],
   "source": [
    "Req: i want to replace shalini name with harika...?\n",
    "    \n",
    "    "
   ]
  },
  {
   "cell_type": "code",
   "execution_count": 18,
   "id": "sporting-preliminary",
   "metadata": {},
   "outputs": [],
   "source": [
    "students[2] = 'harika'"
   ]
  },
  {
   "cell_type": "code",
   "execution_count": 19,
   "id": "informal-officer",
   "metadata": {},
   "outputs": [
    {
     "name": "stdout",
     "output_type": "stream",
     "text": [
      "['amardeep', 'ayushi', 'harika', 'mukesh', 'jeet singh', 'pavan', 'saniya', 'ayushi', 'naveen']\n"
     ]
    }
   ],
   "source": [
    "print(students)"
   ]
  },
  {
   "cell_type": "code",
   "execution_count": 20,
   "id": "working-wildlife",
   "metadata": {},
   "outputs": [
    {
     "name": "stdout",
     "output_type": "stream",
     "text": [
      "harika\n"
     ]
    }
   ],
   "source": [
    "print(students[2])"
   ]
  },
  {
   "cell_type": "code",
   "execution_count": null,
   "id": "residential-republic",
   "metadata": {},
   "outputs": [],
   "source": []
  },
  {
   "cell_type": "code",
   "execution_count": null,
   "id": "vietnamese-southeast",
   "metadata": {},
   "outputs": [],
   "source": []
  },
  {
   "cell_type": "code",
   "execution_count": null,
   "id": "interested-advice",
   "metadata": {},
   "outputs": [],
   "source": []
  }
 ],
 "metadata": {
  "kernelspec": {
   "display_name": "Python 3",
   "language": "python",
   "name": "python3"
  },
  "language_info": {
   "codemirror_mode": {
    "name": "ipython",
    "version": 3
   },
   "file_extension": ".py",
   "mimetype": "text/x-python",
   "name": "python",
   "nbconvert_exporter": "python",
   "pygments_lexer": "ipython3",
   "version": "3.8.5"
  }
 },
 "nbformat": 4,
 "nbformat_minor": 5
}
